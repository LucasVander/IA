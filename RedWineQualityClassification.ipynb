{
  "nbformat": 4,
  "nbformat_minor": 0,
  "metadata": {
    "colab": {
      "name": "RedWineQualityClassification.ipynb",
      "provenance": [],
      "collapsed_sections": [],
      "toc_visible": true
    },
    "kernelspec": {
      "name": "python3",
      "display_name": "Python 3"
    }
  },
  "cells": [
    {
      "cell_type": "markdown",
      "metadata": {
        "id": "Jh3_EUqPB1s-",
        "colab_type": "text"
      },
      "source": [
        "# **Introdução**\n",
        "\n",
        "Alunos: Lucas Vanderlinde,\n",
        "        Hugo Marcel Larsen,\n",
        "        Eduardo Zunino Feller\n",
        "\n",
        "O intuito do trabalho é utilizar o aprendizado supervisionado para treinar o classificador SVM (Support Vector Machine) para realizar a previsão correta da classificação da qualidade do tipo de vinho tinto.\n",
        "\n",
        "A qualidade é indicada por um score de 0 á 10. \n",
        "\n",
        "*   0 - 4: Vinho tinto ruim\n",
        "*   5 - 6: Vinho tinto médio\n",
        "*   7 - 8: Vinho tinto bom\n",
        "\n"
      ]
    },
    {
      "cell_type": "markdown",
      "metadata": {
        "id": "C6pdnFETFFYL",
        "colab_type": "text"
      },
      "source": [
        "#Carregando o conjunto de dados"
      ]
    },
    {
      "cell_type": "code",
      "metadata": {
        "id": "Gcwm9HmmgAJd",
        "colab_type": "code",
        "colab": {}
      },
      "source": [
        "import pandas as pd\n",
        "\n",
        "from sklearn.preprocessing import StandardScaler, LabelEncoder\n",
        "\n",
        "\n",
        "arquivo = pd.read_csv(\"/content/drive/My Drive/Colab Notebooks/winequality-red.csv\")"
      ],
      "execution_count": 202,
      "outputs": []
    },
    {
      "cell_type": "markdown",
      "metadata": {
        "id": "FzCoupQgB0OP",
        "colab_type": "text"
      },
      "source": [
        "Aqui é possível a visualização do arquivo utilizado como base de dados"
      ]
    },
    {
      "cell_type": "code",
      "metadata": {
        "id": "2wFnEv7pIRNa",
        "colab_type": "code",
        "colab": {
          "base_uri": "https://localhost:8080/",
          "height": 253
        },
        "outputId": "12363915-61ad-4e40-d750-cad61c71548c"
      },
      "source": [
        "arquivo.head()"
      ],
      "execution_count": 203,
      "outputs": [
        {
          "output_type": "execute_result",
          "data": {
            "text/html": [
              "<div>\n",
              "<style scoped>\n",
              "    .dataframe tbody tr th:only-of-type {\n",
              "        vertical-align: middle;\n",
              "    }\n",
              "\n",
              "    .dataframe tbody tr th {\n",
              "        vertical-align: top;\n",
              "    }\n",
              "\n",
              "    .dataframe thead th {\n",
              "        text-align: right;\n",
              "    }\n",
              "</style>\n",
              "<table border=\"1\" class=\"dataframe\">\n",
              "  <thead>\n",
              "    <tr style=\"text-align: right;\">\n",
              "      <th></th>\n",
              "      <th>fixed acidity</th>\n",
              "      <th>volatile acidity</th>\n",
              "      <th>citric acid</th>\n",
              "      <th>residual sugar</th>\n",
              "      <th>chlorides</th>\n",
              "      <th>free sulfur dioxide</th>\n",
              "      <th>total sulfur dioxide</th>\n",
              "      <th>density</th>\n",
              "      <th>pH</th>\n",
              "      <th>sulphates</th>\n",
              "      <th>alcohol</th>\n",
              "      <th>quality</th>\n",
              "    </tr>\n",
              "  </thead>\n",
              "  <tbody>\n",
              "    <tr>\n",
              "      <th>0</th>\n",
              "      <td>7.4</td>\n",
              "      <td>0.70</td>\n",
              "      <td>0.00</td>\n",
              "      <td>1.9</td>\n",
              "      <td>0.076</td>\n",
              "      <td>11.0</td>\n",
              "      <td>34.0</td>\n",
              "      <td>0.9978</td>\n",
              "      <td>3.51</td>\n",
              "      <td>0.56</td>\n",
              "      <td>9.4</td>\n",
              "      <td>5</td>\n",
              "    </tr>\n",
              "    <tr>\n",
              "      <th>1</th>\n",
              "      <td>7.8</td>\n",
              "      <td>0.88</td>\n",
              "      <td>0.00</td>\n",
              "      <td>2.6</td>\n",
              "      <td>0.098</td>\n",
              "      <td>25.0</td>\n",
              "      <td>67.0</td>\n",
              "      <td>0.9968</td>\n",
              "      <td>3.20</td>\n",
              "      <td>0.68</td>\n",
              "      <td>9.8</td>\n",
              "      <td>5</td>\n",
              "    </tr>\n",
              "    <tr>\n",
              "      <th>2</th>\n",
              "      <td>7.8</td>\n",
              "      <td>0.76</td>\n",
              "      <td>0.04</td>\n",
              "      <td>2.3</td>\n",
              "      <td>0.092</td>\n",
              "      <td>15.0</td>\n",
              "      <td>54.0</td>\n",
              "      <td>0.9970</td>\n",
              "      <td>3.26</td>\n",
              "      <td>0.65</td>\n",
              "      <td>9.8</td>\n",
              "      <td>5</td>\n",
              "    </tr>\n",
              "    <tr>\n",
              "      <th>3</th>\n",
              "      <td>11.2</td>\n",
              "      <td>0.28</td>\n",
              "      <td>0.56</td>\n",
              "      <td>1.9</td>\n",
              "      <td>0.075</td>\n",
              "      <td>17.0</td>\n",
              "      <td>60.0</td>\n",
              "      <td>0.9980</td>\n",
              "      <td>3.16</td>\n",
              "      <td>0.58</td>\n",
              "      <td>9.8</td>\n",
              "      <td>6</td>\n",
              "    </tr>\n",
              "    <tr>\n",
              "      <th>4</th>\n",
              "      <td>7.4</td>\n",
              "      <td>0.70</td>\n",
              "      <td>0.00</td>\n",
              "      <td>1.9</td>\n",
              "      <td>0.076</td>\n",
              "      <td>11.0</td>\n",
              "      <td>34.0</td>\n",
              "      <td>0.9978</td>\n",
              "      <td>3.51</td>\n",
              "      <td>0.56</td>\n",
              "      <td>9.4</td>\n",
              "      <td>5</td>\n",
              "    </tr>\n",
              "  </tbody>\n",
              "</table>\n",
              "</div>"
            ],
            "text/plain": [
              "   fixed acidity  volatile acidity  citric acid  ...  sulphates  alcohol  quality\n",
              "0            7.4              0.70         0.00  ...       0.56      9.4        5\n",
              "1            7.8              0.88         0.00  ...       0.68      9.8        5\n",
              "2            7.8              0.76         0.04  ...       0.65      9.8        5\n",
              "3           11.2              0.28         0.56  ...       0.58      9.8        6\n",
              "4            7.4              0.70         0.00  ...       0.56      9.4        5\n",
              "\n",
              "[5 rows x 12 columns]"
            ]
          },
          "metadata": {
            "tags": []
          },
          "execution_count": 203
        }
      ]
    },
    {
      "cell_type": "markdown",
      "metadata": {
        "id": "BqN2SZQA27sr",
        "colab_type": "text"
      },
      "source": [
        "# Agrupamento\n",
        "\n",
        "Aqui agruparemos a escala de qualidade em três valores ruim, médio, bom."
      ]
    },
    {
      "cell_type": "code",
      "metadata": {
        "id": "5aYdEA39IQ5U",
        "colab_type": "code",
        "colab": {}
      },
      "source": [
        "bins = (2, 4, 6, 8)\n",
        "group_names = ['ruim', 'médio', 'bom']\n",
        "arquivo['quality'] = pd.cut(arquivo['quality'], bins = bins, labels = group_names)\n",
        "\n",
        "label_type = LabelEncoder()\n",
        "\n",
        "arquivo['quality'] = label_type.fit_transform(arquivo['quality'])"
      ],
      "execution_count": 204,
      "outputs": []
    },
    {
      "cell_type": "code",
      "metadata": {
        "id": "Vvx2ENAndWjo",
        "colab_type": "code",
        "colab": {
          "base_uri": "https://localhost:8080/",
          "height": 297
        },
        "outputId": "4ea285c2-7b77-4b5e-93a1-59ec7b41c473"
      },
      "source": [
        "import seaborn as sns\n",
        "\n",
        "sns.countplot(arquivo['quality'])"
      ],
      "execution_count": 205,
      "outputs": [
        {
          "output_type": "execute_result",
          "data": {
            "text/plain": [
              "<matplotlib.axes._subplots.AxesSubplot at 0x7f79cbfa7e80>"
            ]
          },
          "metadata": {
            "tags": []
          },
          "execution_count": 205
        },
        {
          "output_type": "display_data",
          "data": {
            "image/png": "[encoded data removed]",
            "text/plain": [
              "<Figure size 432x288 with 1 Axes>"
            ]
          },
          "metadata": {
            "tags": [],
            "needs_background": "light"
          }
        }
      ]
    },
    {
      "cell_type": "markdown",
      "metadata": {
        "id": "LkhjKFCxfuSw",
        "colab_type": "text"
      },
      "source": [
        "# Divisão em dois conjuntos\n",
        "\n",
        "Primeiramente é necessário, separar a coluna quality para o classificador treinar e respectivamente testar.\n",
        "\n",
        "Obs.: a função drop aqui é a responsável por remover e o parâmetro *axis = 1* indica que será uma coluna.\n",
        "\n",
        "Ao finalizar essa a execução desse trecho y terá apenas os valores da coluna quality e x terá toda a tabela menos a coluna quality."
      ]
    },
    {
      "cell_type": "code",
      "metadata": {
        "id": "3x1g-3rW0E8V",
        "colab_type": "code",
        "colab": {}
      },
      "source": [
        "y = arquivo['quality']\n",
        "x = arquivo.drop('quality', axis = 1)"
      ],
      "execution_count": 206,
      "outputs": []
    },
    {
      "cell_type": "markdown",
      "metadata": {
        "id": "eW5BGGyKgfTp",
        "colab_type": "text"
      },
      "source": [
        "Aqui separamos o que será teste e o que será treino utilizando a função *train_test_split*. Setamos com o parâmetro *test_size* que queremos que 30% dos dados seja separado para teste e os outros 70% serão treino."
      ]
    },
    {
      "cell_type": "code",
      "metadata": {
        "id": "3wVvC8EM0Ktg",
        "colab_type": "code",
        "colab": {}
      },
      "source": [
        "from sklearn.model_selection import train_test_split\n",
        "\n",
        "x_treino, x_teste, y_treino, y_teste = train_test_split(x, y, test_size = 0.3)"
      ],
      "execution_count": 207,
      "outputs": []
    },
    {
      "cell_type": "markdown",
      "metadata": {
        "id": "Y7wFCuUChMXO",
        "colab_type": "text"
      },
      "source": [
        "#Support Vector Machine (SVM)"
      ]
    },
    {
      "cell_type": "markdown",
      "metadata": {
        "id": "u7or_x0DiDqn",
        "colab_type": "text"
      },
      "source": [
        "Primeiro instânciamos o SVC (Support Vector Classification).\n",
        "\n",
        "Utilizamos a função fit para a realização do treino, passando o conjunto de treino.\n",
        "\n",
        "A função score é responsável por testar cada um dos dados do conjunto de teste e validar se acertou ou errou, o resultado será a taxa de acerto da classificação."
      ]
    },
    {
      "cell_type": "code",
      "metadata": {
        "id": "OKaP3WqW0mBr",
        "colab_type": "code",
        "colab": {
          "base_uri": "https://localhost:8080/",
          "height": 35
        },
        "outputId": "ecf05e21-55c9-4243-d791-79493544384c"
      },
      "source": [
        "from sklearn.svm import SVC\n",
        "\n",
        "svc = SVC()\n",
        "svc.fit(x_treino, y_treino)\n",
        "resultadoSVC = svc.score(x_teste, y_teste)\n",
        "print(\"Acurácia:\", resultadoSVC)"
      ],
      "execution_count": 208,
      "outputs": [
        {
          "output_type": "stream",
          "text": [
            "Acurácia: 0.8166666666666667\n"
          ],
          "name": "stdout"
        }
      ]
    },
    {
      "cell_type": "markdown",
      "metadata": {
        "id": "O5tNwaKwlYHu",
        "colab_type": "text"
      },
      "source": [
        "Realizando um teste de predição separamos um conjunto de dados de 5 valores."
      ]
    },
    {
      "cell_type": "code",
      "metadata": {
        "id": "Xx1z3kX4kpEZ",
        "colab_type": "code",
        "colab": {
          "base_uri": "https://localhost:8080/",
          "height": 126
        },
        "outputId": "8de991f9-f179-4dc4-fa84-915f27eb3c6c"
      },
      "source": [
        "y_teste[0:5]"
      ],
      "execution_count": 209,
      "outputs": [
        {
          "output_type": "execute_result",
          "data": {
            "text/plain": [
              "645     0\n",
              "191     1\n",
              "1139    1\n",
              "1538    1\n",
              "1471    1\n",
              "Name: quality, dtype: int64"
            ]
          },
          "metadata": {
            "tags": []
          },
          "execution_count": 209
        }
      ]
    },
    {
      "cell_type": "markdown",
      "metadata": {
        "id": "JbxBCGZPlsRL",
        "colab_type": "text"
      },
      "source": [
        "Podemos verificar que a previsão indicou os vinhos de qualidade mediana corretamente mas errou no vinho de qualidade ruim."
      ]
    },
    {
      "cell_type": "code",
      "metadata": {
        "id": "0NXM-yh-02p7",
        "colab_type": "code",
        "colab": {
          "base_uri": "https://localhost:8080/",
          "height": 35
        },
        "outputId": "cf73e06e-bd52-4838-9a64-57e038e945a6"
      },
      "source": [
        "predicaoSVC = svc.predict(x_teste[0:5])\n",
        "predicaoSVC"
      ],
      "execution_count": 210,
      "outputs": [
        {
          "output_type": "execute_result",
          "data": {
            "text/plain": [
              "array([1, 1, 1, 1, 1])"
            ]
          },
          "metadata": {
            "tags": []
          },
          "execution_count": 210
        }
      ]
    },
    {
      "cell_type": "markdown",
      "metadata": {
        "id": "mGmHnQAAWJWj",
        "colab_type": "text"
      },
      "source": [
        "# Multi-layer Perceptron (MLP)\n",
        "\n",
        "Utilizando o modelo de classificação MLP, obtivemos uma acurácia maior que o SVM."
      ]
    },
    {
      "cell_type": "code",
      "metadata": {
        "id": "-jkIPVekzfhH",
        "colab_type": "code",
        "colab": {
          "base_uri": "https://localhost:8080/",
          "height": 92
        },
        "outputId": "a84db176-2f85-4a1d-ccaf-1cf0e9a87ffa"
      },
      "source": [
        "from sklearn.neural_network import MLPClassifier\n",
        "mlp = MLPClassifier()\n",
        "mlp.fit(x_treino, y_treino)\n",
        "\n",
        "resultadoMLP = mlp.score(x_teste, y_teste)\n",
        "print(\"Acurácia:\", resultadoMLP)"
      ],
      "execution_count": 211,
      "outputs": [
        {
          "output_type": "stream",
          "text": [
            "Acurácia: 0.8208333333333333\n"
          ],
          "name": "stdout"
        },
        {
          "output_type": "stream",
          "text": [
            "/usr/local/lib/python3.6/dist-packages/sklearn/neural_network/_multilayer_perceptron.py:571: ConvergenceWarning: Stochastic Optimizer: Maximum iterations (200) reached and the optimization hasn't converged yet.\n",
            "  % self.max_iter, ConvergenceWarning)\n"
          ],
          "name": "stderr"
        }
      ]
    },
    {
      "cell_type": "markdown",
      "metadata": {
        "id": "Wo3NTtui1R3f",
        "colab_type": "text"
      },
      "source": [
        "Utilizando o mesmo conjunto de dados para previsão podemos verificar que o modelo MLP conseguiu prever corretamente todo o conjunto enquando o SVM errou uma das previsões."
      ]
    },
    {
      "cell_type": "code",
      "metadata": {
        "id": "y-nYLs7B1JZI",
        "colab_type": "code",
        "colab": {
          "base_uri": "https://localhost:8080/",
          "height": 35
        },
        "outputId": "de68ee58-659c-4b54-97cf-26e0fb637387"
      },
      "source": [
        "predicaoMLP = svc.predict(x_teste[0:5])\n",
        "predicaoMLP"
      ],
      "execution_count": 212,
      "outputs": [
        {
          "output_type": "execute_result",
          "data": {
            "text/plain": [
              "array([1, 1, 1, 1, 1])"
            ]
          },
          "metadata": {
            "tags": []
          },
          "execution_count": 212
        }
      ]
    }
  ]
}